{
  "nbformat": 4,
  "nbformat_minor": 0,
  "metadata": {
    "colab": {
      "provenance": []
    },
    "kernelspec": {
      "name": "python3",
      "display_name": "Python 3"
    },
    "language_info": {
      "name": "python"
    }
  },
  "cells": [
    {
      "cell_type": "code",
      "execution_count": null,
      "metadata": {
        "colab": {
          "base_uri": "https://localhost:8080/",
          "height": 824
        },
        "id": "_l3pF0KtIJ2-",
        "outputId": "8cbbdf63-3dee-4105-8ad0-360452e748a6"
      },
      "outputs": [
        {
          "output_type": "stream",
          "name": "stdout",
          "text": [
            "Drive already mounted at /content/drive; to attempt to forcibly remount, call drive.mount(\"/content/drive\", force_remount=True).\n",
            "Epoch 1/10, Loss: 0.2599\n",
            "Epoch 2/10, Loss: 0.1663\n",
            "Epoch 3/10, Loss: 0.8337\n",
            "Epoch 4/10, Loss: 0.1663\n",
            "Epoch 5/10, Loss: 0.1663\n",
            "Epoch 6/10, Loss: 0.1663\n",
            "Epoch 7/10, Loss: 0.1663\n",
            "Epoch 8/10, Loss: 0.1663\n",
            "Epoch 9/10, Loss: 0.8337\n",
            "Epoch 10/10, Loss: 0.1663\n",
            "Accuracy: 0.8333\n",
            "Precision: 0.0000\n",
            "Recall: 0.0000\n",
            "F1 Score: 0.0000\n"
          ]
        },
        {
          "output_type": "display_data",
          "data": {
            "text/plain": [
              "<Figure size 600x600 with 2 Axes>"
            ],
            "image/png": "[encoded data removed]"
          },
          "metadata": {}
        }
      ],
      "source": [
        "# Importing required libraries\n",
        "import numpy as np\n",
        "import pandas as pd\n",
        "import re\n",
        "from sklearn.metrics import accuracy_score, precision_score, recall_score, f1_score, confusion_matrix\n",
        "from sklearn.model_selection import train_test_split\n",
        "import seaborn as sns\n",
        "import matplotlib.pyplot as plt\n",
        "from google.colab import drive\n",
        "\n",
        "# Mounting Google Drive for data access\n",
        "drive.mount('/content/drive')\n",
        "\n",
        "# Sigmoid function with clipping to prevent overflow\n",
        "def sigmoid(x):\n",
        "    return 1 / (1 + np.exp(-np.clip(x, -15, 15)))\n",
        "\n",
        "# Text cleaning function\n",
        "def clean_text(text):\n",
        "    return re.sub(r'[^\\w\\s]', '', text.lower()).split()\n",
        "\n",
        "# Sentence to embedding conversion\n",
        "def get_sentence_embedding(sentence, embeddings, max_words=12):\n",
        "    embedding_dim = len(next(iter(embeddings.values())))\n",
        "    sentence_embeddings = np.zeros((max_words, embedding_dim))\n",
        "    for i, word in enumerate(sentence[:max_words]):\n",
        "        sentence_embeddings[i] = embeddings.get(word, np.zeros(embedding_dim))\n",
        "    return sentence_embeddings.flatten()\n",
        "\n",
        "# Neural Network Implementation\n",
        "class NeuralNetwork:\n",
        "    def __init__(self, input_size, hidden_size, output_size):\n",
        "        self.W1 = np.random.uniform(-1, 1, (input_size, hidden_size)) / np.sqrt(input_size)\n",
        "        self.b1 = np.zeros(hidden_size)\n",
        "        self.W2 = np.random.uniform(-1, 1, (hidden_size, output_size)) / np.sqrt(hidden_size)\n",
        "        self.b2 = np.zeros(output_size)\n",
        "\n",
        "    def forward(self, x):\n",
        "        self.z1 = np.dot(x, self.W1) + self.b1\n",
        "        self.a1 = np.tanh(self.z1)\n",
        "        self.z2 = np.dot(self.a1, self.W2) + self.b2\n",
        "        self.a2 = sigmoid(self.z2)\n",
        "        return self.a2\n",
        "\n",
        "    def backward(self, x, y, y_pred, lr):\n",
        "        dL_dz2 = y_pred - y\n",
        "        self.W2 -= lr * np.dot(self.a1.T, dL_dz2)\n",
        "        self.b2 -= lr * dL_dz2.sum(axis=0)\n",
        "        dL_dz1 = np.dot(dL_dz2, self.W2.T) * (1 - self.a1 ** 2)\n",
        "        self.W1 -= lr * np.dot(x.T, dL_dz1)\n",
        "        self.b1 -= lr * dL_dz1.sum(axis=0)\n",
        "\n",
        "    def train(self, X, Y, epochs, lr):\n",
        "        for epoch in range(epochs):\n",
        "            y_pred = self.forward(X)\n",
        "            loss = np.mean((y_pred - Y) ** 2)\n",
        "            self.backward(X, Y, y_pred, lr)\n",
        "            print(f\"Epoch {epoch + 1}/{epochs}, Loss: {loss:.4f}\")\n",
        "\n",
        "# Load word embeddings\n",
        "embeddings_df = pd.read_csv('/content/drive/MyDrive/word_embeddings.csv', index_col=0)\n",
        "word_embeddings = {k: np.array(list(v.values())) for k, v in embeddings_df.to_dict(orient='index').items()}\n",
        "\n",
        "# Load and clean dataset\n",
        "data = pd.read_csv('/content/drive/MyDrive/spam_or_not_spam.csv').dropna()\n",
        "data['clean_text'] = data['email'].apply(clean_text)\n",
        "\n",
        "# Convert sentences to embeddings\n",
        "X = np.array([get_sentence_embedding(sent, word_embeddings) for sent in data['clean_text']])\n",
        "Y = data['label'].values.reshape(-1, 1)\n",
        "\n",
        "# Train-test split\n",
        "X_train, X_test, Y_train, Y_test = train_test_split(X, Y, test_size=0.2, random_state=42)\n",
        "\n",
        "# Initialize and train the neural network\n",
        "nn = NeuralNetwork(input_size=X_train.shape[1], hidden_size=8, output_size=1)\n",
        "nn.train(X_train, Y_train, epochs=10, lr=0.01)\n",
        "\n",
        "# Evaluate the model\n",
        "y_pred = np.round(nn.forward(X_test))\n",
        "accuracy = accuracy_score(Y_test, y_pred)\n",
        "precision = precision_score(Y_test, y_pred, zero_division=0)\n",
        "recall = recall_score(Y_test, y_pred, zero_division=0)\n",
        "f1 = f1_score(Y_test, y_pred)\n",
        "\n",
        "print(f\"Accuracy: {accuracy:.4f}\")\n",
        "print(f\"Precision: {precision:.4f}\")\n",
        "print(f\"Recall: {recall:.4f}\")\n",
        "print(f\"F1 Score: {f1:.4f}\")\n",
        "\n",
        "# Confusion matrix\n",
        "cm = confusion_matrix(Y_test, y_pred)\n",
        "plt.figure(figsize=(6, 6))\n",
        "sns.heatmap(cm, annot=True, fmt='d', cmap='Blues',\n",
        "            xticklabels=['Not Spam', 'Spam'],\n",
        "            yticklabels=['Not Spam', 'Spam'])\n",
        "plt.ylabel('Actual')\n",
        "plt.xlabel('Predicted')\n",
        "plt.title('Confusion Matrix')\n",
        "plt.show()\n"
      ]
    }
  ]
}